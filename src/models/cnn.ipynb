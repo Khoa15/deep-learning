{
 "cells": [
  {
   "cell_type": "markdown",
   "metadata": {},
   "source": [
    "# Project: HUIT-AI https://github.com/Khoa15/huit-ai\n",
    "Including CNN layers to classify 12 distinct age classes. Try to classify a face picture with a label."
   ]
  }
 ],
 "metadata": {
  "language_info": {
   "name": "python"
  }
 },
 "nbformat": 4,
 "nbformat_minor": 2
}
